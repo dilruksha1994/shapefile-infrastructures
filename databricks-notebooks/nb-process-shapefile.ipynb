{
 "cells": [
  {
   "cell_type": "code",
   "execution_count": 0,
   "metadata": {
    "application/vnd.databricks.v1+cell": {
     "cellMetadata": {
      "byteLimit": 2048000,
      "rowLimit": 10000
     },
     "inputWidgets": {},
     "nuid": "155dc76f-0d09-4679-8924-3d19ddc22017",
     "showTitle": false,
     "title": ""
    }
   },
   "outputs": [
    {
     "output_type": "stream",
     "name": "stdout",
     "output_type": "stream",
     "text": [
      "Status Code: 200\nResponse: {'status': 'Shapefile is being processed...'}\n"
     ]
    }
   ],
   "source": [
    "import requests\n",
    "\n",
    "# URL of your Azure App Service microservice\n",
    "url = 'https://as-shapefile-sasia.azurewebsites.net/process-shapefile/'\n",
    "\n",
    "# Make the POST request without any parameters\n",
    "response = requests.post(url)\n",
    "\n",
    "# Log the status and results\n",
    "print(f\"Status Code: {response.status_code}\")\n",
    "print(f\"Response: {response.json()}\")\n"
   ]
  }
 ],
 "metadata": {
  "application/vnd.databricks.v1+notebook": {
   "dashboards": [],
   "environmentMetadata": {
    "base_environment": "",
    "client": "1"
   },
   "language": "python",
   "notebookMetadata": {
    "pythonIndentUnit": 4
   },
   "notebookName": "nb-process-shapefile",
   "widgets": {}
  }
 },
 "nbformat": 4,
 "nbformat_minor": 0
}
